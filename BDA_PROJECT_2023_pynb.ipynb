{
  "nbformat": 4,
  "nbformat_minor": 0,
  "metadata": {
    "colab": {
      "provenance": [],
      "toc_visible": true,
      "authorship_tag": "ABX9TyMKtyNwc81XUCiOswKuWYQD",
      "include_colab_link": true
    },
    "kernelspec": {
      "name": "python3",
      "display_name": "Python 3"
    },
    "language_info": {
      "name": "python"
    }
  },
  "cells": [
    {
      "cell_type": "markdown",
      "metadata": {
        "id": "view-in-github",
        "colab_type": "text"
      },
      "source": [
        "<a href=\"https://colab.research.google.com/github/rajatrai30/ubder-data-analysis-usinf-R/blob/master/BDA_PROJECT_2023_pynb.ipynb\" target=\"_parent\"><img src=\"https://colab.research.google.com/assets/colab-badge.svg\" alt=\"Open In Colab\"/></a>"
      ]
    },
    {
      "cell_type": "code",
      "source": [
        "%load_ext rpy2.ipython"
      ],
      "metadata": {
        "id": "Uc1qWQbDU26K"
      },
      "execution_count": 3,
      "outputs": []
    },
    {
      "cell_type": "code",
      "source": [
        "%%R\n",
        "library(ggplot2)\n",
        "library(ggthemes)\n",
        "library(lubridate)\n",
        "library(dplyr)\n",
        "library(tidyr)\n",
        "library(DT)\n",
        "library(scales)"
      ],
      "metadata": {
        "colab": {
          "base_uri": "https://localhost:8080/"
        },
        "id": "it3Y4KG3ZFpO",
        "outputId": "619fac9f-14d9-46f3-b8de-50925c5e981a"
      },
      "execution_count": 4,
      "outputs": [
        {
          "output_type": "stream",
          "name": "stderr",
          "text": [
            "WARNING:rpy2.rinterface_lib.callbacks:R[write to console]: Use suppressPackageStartupMessages() to eliminate package startup\n",
            "messages\n",
            "\n",
            "WARNING:rpy2.rinterface_lib.callbacks:R[write to console]: Error in library(ggthemes) : there is no package called ‘ggthemes’\n",
            "\n"
          ]
        },
        {
          "output_type": "stream",
          "name": "stdout",
          "text": [
            "\n",
            "Error in library(ggthemes) : there is no package called ‘ggthemes’\n"
          ]
        }
      ]
    },
    {
      "cell_type": "code",
      "source": [
        "%%R\n",
        "colors = c(\"#CC1011\", \"#665555\", \"#05a399\", \"#cfcaca\", \"#f5e840\", \"#0683c9\", \"#e075b0\")\n",
        "colors"
      ],
      "metadata": {
        "colab": {
          "base_uri": "https://localhost:8080/"
        },
        "id": "Jy224IOdZq8J",
        "outputId": "8e57d12d-35aa-4592-b34d-89d223e871e9"
      },
      "execution_count": 6,
      "outputs": [
        {
          "output_type": "stream",
          "name": "stdout",
          "text": [
            "[1] \"#CC1011\" \"#665555\" \"#05a399\" \"#cfcaca\" \"#f5e840\" \"#0683c9\" \"#e075b0\"\n"
          ]
        }
      ]
    },
    {
      "cell_type": "code",
      "source": [
        "%%R\n",
        "getwd()"
      ],
      "metadata": {
        "colab": {
          "base_uri": "https://localhost:8080/"
        },
        "id": "vYZOOgItZ9Y6",
        "outputId": "3c51e890-5671-4681-9133-51155d146838"
      },
      "execution_count": 7,
      "outputs": [
        {
          "output_type": "stream",
          "name": "stdout",
          "text": [
            "[1] \"/content\"\n"
          ]
        }
      ]
    },
    {
      "cell_type": "code",
      "source": [
        "%%R\n",
        "apr <- read.csv(\"uber-raw-data-apr14.csv\")\n",
        "may <- read.csv(\"uber-raw-data-may14.csv\")\n",
        "june <- read.csv(\"uber-raw-data-jun14.csv\")\n",
        "july <- read.csv(\"uber-raw-data-jul14.csv\")\n",
        "aug <- read.csv(\"uber-raw-data-aug14.csv\")\n",
        "sept <- read.csv(\"uber-raw-data-sep14.csv\")"
      ],
      "metadata": {
        "id": "2YgRohztaCC9"
      },
      "execution_count": 8,
      "outputs": []
    },
    {
      "cell_type": "code",
      "source": [
        "%%R\n",
        "# Combine the data together\n",
        "data <- rbind(apr, may, june, july, aug, sept)\n",
        "cat(\"The dimensions of the data are:\", dim(data))"
      ],
      "metadata": {
        "colab": {
          "base_uri": "https://localhost:8080/"
        },
        "id": "KYyIuaxybgqq",
        "outputId": "9e9fa558-6ec7-449d-e385-0f88e9856c5a"
      },
      "execution_count": 9,
      "outputs": [
        {
          "output_type": "stream",
          "name": "stdout",
          "text": [
            "The dimensions of the data are: 821023 4"
          ]
        }
      ]
    },
    {
      "cell_type": "code",
      "source": [
        "%%R\n",
        "# Print the first 6 rows of the data\n",
        "head(data)"
      ],
      "metadata": {
        "colab": {
          "base_uri": "https://localhost:8080/"
        },
        "id": "5n0NEXYJbsp7",
        "outputId": "cf5f4212-1828-4975-d14b-ec022ecb7115"
      },
      "execution_count": 10,
      "outputs": [
        {
          "output_type": "stream",
          "name": "stdout",
          "text": [
            "         Date.Time     Lat      Lon   Base\n",
            "1 4/1/2014 0:11:00 40.7690 -73.9549 B02512\n",
            "2 4/1/2014 0:17:00 40.7267 -74.0345 B02512\n",
            "3 4/1/2014 0:21:00 40.7316 -73.9873 B02512\n",
            "4 4/1/2014 0:28:00 40.7588 -73.9776 B02512\n",
            "5 4/1/2014 0:33:00 40.7594 -73.9722 B02512\n",
            "6 4/1/2014 0:33:00 40.7383 -74.0403 B02512\n"
          ]
        }
      ]
    },
    {
      "cell_type": "code",
      "source": [
        "# The data contains the columns Date.\n",
        "# Time is a factor, Latitude, and Longitudes are double, and Base is a factor.\n",
        "# we will format the DateTime into a more readable format using the Date Time conversion function."
      ],
      "metadata": {
        "id": "bfnY5izAbzhD"
      },
      "execution_count": 11,
      "outputs": []
    },
    {
      "cell_type": "code",
      "source": [
        "%%R\n",
        "# Load the lubridate package\n",
        "library(lubridate)\n",
        "\n",
        "# Assuming you have a data frame named 'data' with a column 'Date.Time'\n",
        "# Convert 'Date.Time' to POSIXct\n",
        "data$Date.Time <- as.POSIXct(data$Date.Time, format=\"%m/%d/%Y %H:%M:%S\")\n",
        "\n",
        "# Extract the 'Time' component as a formatted string\n",
        "data$Time <- format(data$Date.Time, format=\"%H:%M:%S\")\n",
        "\n",
        "# Now, 'ymd_hms' should work because you've loaded 'lubridate' and 'Date.Time' is already in the POSIXct format.\n",
        "data$Date.Time <- ymd_hms(data$Date.Time)\n",
        "\n",
        "# Print the first few rows of the data\n",
        "head(data)"
      ],
      "metadata": {
        "colab": {
          "base_uri": "https://localhost:8080/"
        },
        "id": "K7SFuL_Mb44O",
        "outputId": "36139541-4393-4d05-bf86-88c1ce6d29e9"
      },
      "execution_count": 13,
      "outputs": [
        {
          "output_type": "stream",
          "name": "stderr",
          "text": [
            "WARNING:rpy2.rinterface_lib.callbacks:R[write to console]: \n",
            "Attaching package: ‘lubridate’\n",
            "\n",
            "\n",
            "WARNING:rpy2.rinterface_lib.callbacks:R[write to console]: The following objects are masked from ‘package:base’:\n",
            "\n",
            "    date, intersect, setdiff, union\n",
            "\n",
            "\n"
          ]
        },
        {
          "output_type": "stream",
          "name": "stdout",
          "text": [
            "            Date.Time     Lat      Lon   Base     Time\n",
            "1 2014-04-01 00:11:00 40.7690 -73.9549 B02512 00:11:00\n",
            "2 2014-04-01 00:17:00 40.7267 -74.0345 B02512 00:17:00\n",
            "3 2014-04-01 00:21:00 40.7316 -73.9873 B02512 00:21:00\n",
            "4 2014-04-01 00:28:00 40.7588 -73.9776 B02512 00:28:00\n",
            "5 2014-04-01 00:33:00 40.7594 -73.9722 B02512 00:33:00\n",
            "6 2014-04-01 00:33:00 40.7383 -74.0403 B02512 00:33:00\n"
          ]
        }
      ]
    },
    {
      "cell_type": "code",
      "source": [
        "%%R\n",
        "# Create individual columns for month day and year\n",
        "data$day <- factor(day(data$Date.Time))\n",
        "data$month <- factor(month(data$Date.Time, label=TRUE))\n",
        "data$year <- factor(year(data$Date.Time))\n",
        "data$dayofweek <- factor(wday(data$Date.Time, label=TRUE))\n",
        "head(data)"
      ],
      "metadata": {
        "colab": {
          "base_uri": "https://localhost:8080/"
        },
        "id": "ekEX5pkjb9po",
        "outputId": "f4f3d2d6-e587-4e79-a6be-3ef18f7ab290"
      },
      "execution_count": 14,
      "outputs": [
        {
          "output_type": "stream",
          "name": "stdout",
          "text": [
            "            Date.Time     Lat      Lon   Base     Time day month year dayofweek\n",
            "1 2014-04-01 00:11:00 40.7690 -73.9549 B02512 00:11:00   1   Apr 2014       Tue\n",
            "2 2014-04-01 00:17:00 40.7267 -74.0345 B02512 00:17:00   1   Apr 2014       Tue\n",
            "3 2014-04-01 00:21:00 40.7316 -73.9873 B02512 00:21:00   1   Apr 2014       Tue\n",
            "4 2014-04-01 00:28:00 40.7588 -73.9776 B02512 00:28:00   1   Apr 2014       Tue\n",
            "5 2014-04-01 00:33:00 40.7594 -73.9722 B02512 00:33:00   1   Apr 2014       Tue\n",
            "6 2014-04-01 00:33:00 40.7383 -74.0403 B02512 00:33:00   1   Apr 2014       Tue\n"
          ]
        }
      ]
    },
    {
      "cell_type": "code",
      "source": [
        "%%R\n",
        "# Add Time variables as well\n",
        "data$second = factor(second(hms(data$Time)))\n",
        "data$minute = factor(minute(hms(data$Time)))\n",
        "data$hour = factor(hour(hms(data$Time)))"
      ],
      "metadata": {
        "id": "vZh6Ww5Vc5mZ"
      },
      "execution_count": 15,
      "outputs": []
    },
    {
      "cell_type": "code",
      "source": [
        "%%R\n",
        "# Look at the data\n",
        "head(data)"
      ],
      "metadata": {
        "colab": {
          "base_uri": "https://localhost:8080/"
        },
        "id": "fQyE6IqmdCV5",
        "outputId": "f9dc507a-e437-4f3b-e991-af32549bfbc6"
      },
      "execution_count": 16,
      "outputs": [
        {
          "output_type": "stream",
          "name": "stdout",
          "text": [
            "            Date.Time     Lat      Lon   Base     Time day month year dayofweek\n",
            "1 2014-04-01 00:11:00 40.7690 -73.9549 B02512 00:11:00   1   Apr 2014       Tue\n",
            "2 2014-04-01 00:17:00 40.7267 -74.0345 B02512 00:17:00   1   Apr 2014       Tue\n",
            "3 2014-04-01 00:21:00 40.7316 -73.9873 B02512 00:21:00   1   Apr 2014       Tue\n",
            "4 2014-04-01 00:28:00 40.7588 -73.9776 B02512 00:28:00   1   Apr 2014       Tue\n",
            "5 2014-04-01 00:33:00 40.7594 -73.9722 B02512 00:33:00   1   Apr 2014       Tue\n",
            "6 2014-04-01 00:33:00 40.7383 -74.0403 B02512 00:33:00   1   Apr 2014       Tue\n",
            "  second minute hour\n",
            "1      0     11    0\n",
            "2      0     17    0\n",
            "3      0     21    0\n",
            "4      0     28    0\n",
            "5      0     33    0\n",
            "6      0     33    0\n"
          ]
        }
      ]
    },
    {
      "cell_type": "markdown",
      "source": [
        "**DATA VISUALIZATION**"
      ],
      "metadata": {
        "id": "Zu6HDxi9dMK1"
      }
    },
    {
      "cell_type": "code",
      "source": [
        "%%R\n",
        "# Load the dplyr package to use the pipe operator\n",
        "library(dplyr)\n",
        "# Plotting the trips by hours in a day\n",
        "hourly_data <- data %>%\n",
        "  group_by(hour) %>%\n",
        "  summarize(Total = n())"
      ],
      "metadata": {
        "id": "yPcsYgFgdTe-"
      },
      "execution_count": 21,
      "outputs": []
    },
    {
      "cell_type": "code",
      "source": [
        "%%R\n",
        "install.packages(\"DT\")\n",
        "library(DT)\n",
        "# Show data in a searchable js table\n",
        "datatable(hourly_data)"
      ],
      "metadata": {
        "colab": {
          "base_uri": "https://localhost:8080/"
        },
        "id": "tlepXN3Td9Ck",
        "outputId": "15c340ce-8ed5-4de9-f5d1-fe32c0e419a1"
      },
      "execution_count": 29,
      "outputs": [
        {
          "output_type": "stream",
          "name": "stderr",
          "text": [
            "WARNING:rpy2.rinterface_lib.callbacks:R[write to console]: Installing package into ‘/usr/local/lib/R/site-library’\n",
            "(as ‘lib’ is unspecified)\n",
            "\n",
            "WARNING:rpy2.rinterface_lib.callbacks:R[write to console]: also installing the dependency ‘httpuv’\n",
            "\n",
            "\n",
            "WARNING:rpy2.rinterface_lib.callbacks:R[write to console]: trying URL 'https://cran.rstudio.com/src/contrib/httpuv_1.6.11.tar.gz'\n",
            "\n",
            "WARNING:rpy2.rinterface_lib.callbacks:R[write to console]: Content type 'application/x-gzip'\n",
            "WARNING:rpy2.rinterface_lib.callbacks:R[write to console]:  length 1874829 bytes (1.8 MB)\n",
            "\n",
            "WARNING:rpy2.rinterface_lib.callbacks:R[write to console]: =\n",
            "WARNING:rpy2.rinterface_lib.callbacks:R[write to console]: =\n",
            "WARNING:rpy2.rinterface_lib.callbacks:R[write to console]: =\n",
            "WARNING:rpy2.rinterface_lib.callbacks:R[write to console]: =\n",
            "WARNING:rpy2.rinterface_lib.callbacks:R[write to console]: =\n",
            "WARNING:rpy2.rinterface_lib.callbacks:R[write to console]: =\n",
            "WARNING:rpy2.rinterface_lib.callbacks:R[write to console]: =\n",
            "WARNING:rpy2.rinterface_lib.callbacks:R[write to console]: =\n",
            "WARNING:rpy2.rinterface_lib.callbacks:R[write to console]: =\n",
            "WARNING:rpy2.rinterface_lib.callbacks:R[write to console]: =\n",
            "WARNING:rpy2.rinterface_lib.callbacks:R[write to console]: =\n",
            "WARNING:rpy2.rinterface_lib.callbacks:R[write to console]: =\n",
            "WARNING:rpy2.rinterface_lib.callbacks:R[write to console]: =\n",
            "WARNING:rpy2.rinterface_lib.callbacks:R[write to console]: =\n",
            "WARNING:rpy2.rinterface_lib.callbacks:R[write to console]: =\n",
            "WARNING:rpy2.rinterface_lib.callbacks:R[write to console]: =\n",
            "WARNING:rpy2.rinterface_lib.callbacks:R[write to console]: =\n",
            "WARNING:rpy2.rinterface_lib.callbacks:R[write to console]: =\n",
            "WARNING:rpy2.rinterface_lib.callbacks:R[write to console]: =\n",
            "WARNING:rpy2.rinterface_lib.callbacks:R[write to console]: =\n",
            "WARNING:rpy2.rinterface_lib.callbacks:R[write to console]: =\n",
            "WARNING:rpy2.rinterface_lib.callbacks:R[write to console]: =\n",
            "WARNING:rpy2.rinterface_lib.callbacks:R[write to console]: =\n",
            "WARNING:rpy2.rinterface_lib.callbacks:R[write to console]: =\n",
            "WARNING:rpy2.rinterface_lib.callbacks:R[write to console]: =\n",
            "WARNING:rpy2.rinterface_lib.callbacks:R[write to console]: =\n",
            "WARNING:rpy2.rinterface_lib.callbacks:R[write to console]: =\n",
            "WARNING:rpy2.rinterface_lib.callbacks:R[write to console]: =\n",
            "WARNING:rpy2.rinterface_lib.callbacks:R[write to console]: =\n",
            "WARNING:rpy2.rinterface_lib.callbacks:R[write to console]: =\n",
            "WARNING:rpy2.rinterface_lib.callbacks:R[write to console]: =\n",
            "WARNING:rpy2.rinterface_lib.callbacks:R[write to console]: =\n",
            "WARNING:rpy2.rinterface_lib.callbacks:R[write to console]: =\n",
            "WARNING:rpy2.rinterface_lib.callbacks:R[write to console]: =\n",
            "WARNING:rpy2.rinterface_lib.callbacks:R[write to console]: =\n",
            "WARNING:rpy2.rinterface_lib.callbacks:R[write to console]: =\n",
            "WARNING:rpy2.rinterface_lib.callbacks:R[write to console]: =\n",
            "WARNING:rpy2.rinterface_lib.callbacks:R[write to console]: =\n",
            "WARNING:rpy2.rinterface_lib.callbacks:R[write to console]: =\n",
            "WARNING:rpy2.rinterface_lib.callbacks:R[write to console]: =\n",
            "WARNING:rpy2.rinterface_lib.callbacks:R[write to console]: =\n",
            "WARNING:rpy2.rinterface_lib.callbacks:R[write to console]: =\n",
            "WARNING:rpy2.rinterface_lib.callbacks:R[write to console]: =\n",
            "WARNING:rpy2.rinterface_lib.callbacks:R[write to console]: =\n",
            "WARNING:rpy2.rinterface_lib.callbacks:R[write to console]: =\n",
            "WARNING:rpy2.rinterface_lib.callbacks:R[write to console]: =\n",
            "WARNING:rpy2.rinterface_lib.callbacks:R[write to console]: =\n",
            "WARNING:rpy2.rinterface_lib.callbacks:R[write to console]: =\n",
            "WARNING:rpy2.rinterface_lib.callbacks:R[write to console]: =\n",
            "WARNING:rpy2.rinterface_lib.callbacks:R[write to console]: =\n",
            "WARNING:rpy2.rinterface_lib.callbacks:R[write to console]: \n",
            "\n",
            "WARNING:rpy2.rinterface_lib.callbacks:R[write to console]: downloaded 1.8 MB\n",
            "\n",
            "\n",
            "WARNING:rpy2.rinterface_lib.callbacks:R[write to console]: trying URL 'https://cran.rstudio.com/src/contrib/DT_0.30.tar.gz'\n",
            "\n",
            "WARNING:rpy2.rinterface_lib.callbacks:R[write to console]: Content type 'application/x-gzip'\n",
            "WARNING:rpy2.rinterface_lib.callbacks:R[write to console]:  length 1469925 bytes (1.4 MB)\n",
            "\n",
            "WARNING:rpy2.rinterface_lib.callbacks:R[write to console]: =\n",
            "WARNING:rpy2.rinterface_lib.callbacks:R[write to console]: =\n",
            "WARNING:rpy2.rinterface_lib.callbacks:R[write to console]: =\n",
            "WARNING:rpy2.rinterface_lib.callbacks:R[write to console]: =\n",
            "WARNING:rpy2.rinterface_lib.callbacks:R[write to console]: =\n",
            "WARNING:rpy2.rinterface_lib.callbacks:R[write to console]: =\n",
            "WARNING:rpy2.rinterface_lib.callbacks:R[write to console]: =\n",
            "WARNING:rpy2.rinterface_lib.callbacks:R[write to console]: =\n",
            "WARNING:rpy2.rinterface_lib.callbacks:R[write to console]: =\n",
            "WARNING:rpy2.rinterface_lib.callbacks:R[write to console]: =\n",
            "WARNING:rpy2.rinterface_lib.callbacks:R[write to console]: =\n",
            "WARNING:rpy2.rinterface_lib.callbacks:R[write to console]: =\n",
            "WARNING:rpy2.rinterface_lib.callbacks:R[write to console]: =\n",
            "WARNING:rpy2.rinterface_lib.callbacks:R[write to console]: =\n",
            "WARNING:rpy2.rinterface_lib.callbacks:R[write to console]: =\n",
            "WARNING:rpy2.rinterface_lib.callbacks:R[write to console]: =\n",
            "WARNING:rpy2.rinterface_lib.callbacks:R[write to console]: =\n",
            "WARNING:rpy2.rinterface_lib.callbacks:R[write to console]: =\n",
            "WARNING:rpy2.rinterface_lib.callbacks:R[write to console]: =\n",
            "WARNING:rpy2.rinterface_lib.callbacks:R[write to console]: =\n",
            "WARNING:rpy2.rinterface_lib.callbacks:R[write to console]: =\n",
            "WARNING:rpy2.rinterface_lib.callbacks:R[write to console]: =\n",
            "WARNING:rpy2.rinterface_lib.callbacks:R[write to console]: =\n",
            "WARNING:rpy2.rinterface_lib.callbacks:R[write to console]: =\n",
            "WARNING:rpy2.rinterface_lib.callbacks:R[write to console]: =\n",
            "WARNING:rpy2.rinterface_lib.callbacks:R[write to console]: =\n",
            "WARNING:rpy2.rinterface_lib.callbacks:R[write to console]: =\n",
            "WARNING:rpy2.rinterface_lib.callbacks:R[write to console]: =\n",
            "WARNING:rpy2.rinterface_lib.callbacks:R[write to console]: =\n",
            "WARNING:rpy2.rinterface_lib.callbacks:R[write to console]: =\n",
            "WARNING:rpy2.rinterface_lib.callbacks:R[write to console]: =\n",
            "WARNING:rpy2.rinterface_lib.callbacks:R[write to console]: =\n",
            "WARNING:rpy2.rinterface_lib.callbacks:R[write to console]: =\n",
            "WARNING:rpy2.rinterface_lib.callbacks:R[write to console]: =\n",
            "WARNING:rpy2.rinterface_lib.callbacks:R[write to console]: =\n",
            "WARNING:rpy2.rinterface_lib.callbacks:R[write to console]: =\n",
            "WARNING:rpy2.rinterface_lib.callbacks:R[write to console]: =\n",
            "WARNING:rpy2.rinterface_lib.callbacks:R[write to console]: =\n",
            "WARNING:rpy2.rinterface_lib.callbacks:R[write to console]: =\n",
            "WARNING:rpy2.rinterface_lib.callbacks:R[write to console]: =\n",
            "WARNING:rpy2.rinterface_lib.callbacks:R[write to console]: =\n",
            "WARNING:rpy2.rinterface_lib.callbacks:R[write to console]: =\n",
            "WARNING:rpy2.rinterface_lib.callbacks:R[write to console]: =\n",
            "WARNING:rpy2.rinterface_lib.callbacks:R[write to console]: =\n",
            "WARNING:rpy2.rinterface_lib.callbacks:R[write to console]: =\n",
            "WARNING:rpy2.rinterface_lib.callbacks:R[write to console]: =\n",
            "WARNING:rpy2.rinterface_lib.callbacks:R[write to console]: =\n",
            "WARNING:rpy2.rinterface_lib.callbacks:R[write to console]: =\n",
            "WARNING:rpy2.rinterface_lib.callbacks:R[write to console]: =\n",
            "WARNING:rpy2.rinterface_lib.callbacks:R[write to console]: =\n",
            "WARNING:rpy2.rinterface_lib.callbacks:R[write to console]: \n",
            "\n",
            "WARNING:rpy2.rinterface_lib.callbacks:R[write to console]: downloaded 1.4 MB\n",
            "\n",
            "\n",
            "WARNING:rpy2.rinterface_lib.callbacks:R[write to console]: \n",
            "\n",
            "WARNING:rpy2.rinterface_lib.callbacks:R[write to console]: \n",
            "WARNING:rpy2.rinterface_lib.callbacks:R[write to console]: The downloaded source packages are in\n",
            "\t‘/tmp/RtmpR4Kjt9/downloaded_packages’\n",
            "WARNING:rpy2.rinterface_lib.callbacks:R[write to console]: \n",
            "WARNING:rpy2.rinterface_lib.callbacks:R[write to console]: \n",
            "\n"
          ]
        }
      ]
    },
    {
      "cell_type": "code",
      "source": [
        "%%R\n",
        "month_hour_data <- data %>% group_by(month, hour) %>%  dplyr::summarize(Total = n())"
      ],
      "metadata": {
        "colab": {
          "base_uri": "https://localhost:8080/"
        },
        "id": "nfRuiXaXeuzw",
        "outputId": "10177c7d-1218-436d-b06d-480731c3cae7"
      },
      "execution_count": 30,
      "outputs": [
        {
          "output_type": "stream",
          "name": "stdout",
          "text": [
            "`summarise()` has grouped output by 'month'. You can override using the\n",
            "`.groups` argument.\n"
          ]
        }
      ]
    },
    {
      "cell_type": "code",
      "source": [
        "%%R\n",
        "day_data <- data %>% group_by(day) %>% dplyr::summarize(Trips = n())\n",
        "day_data"
      ],
      "metadata": {
        "colab": {
          "base_uri": "https://localhost:8080/"
        },
        "id": "2kHgDzK7fPTl",
        "outputId": "8691c2ef-a6dc-4814-c701-fa4799e50504"
      },
      "execution_count": 31,
      "outputs": [
        {
          "output_type": "stream",
          "name": "stdout",
          "text": [
            "# A tibble: 32 × 2\n",
            "   day   Trips\n",
            "   <fct> <int>\n",
            " 1 1     46241\n",
            " 2 2     51884\n",
            " 3 3     52173\n",
            " 4 4     49274\n",
            " 5 5     52133\n",
            " 6 6     49649\n",
            " 7 7     51100\n",
            " 8 8     52832\n",
            " 9 9     56214\n",
            "10 10    55470\n",
            "# ℹ 22 more rows\n",
            "# ℹ Use `print(n = ...)` to see more rows\n"
          ]
        }
      ]
    },
    {
      "cell_type": "code",
      "source": [
        "%%R\n",
        "# Collect data by day of the week and month\n",
        "day_month_data <- data %>% group_by(dayofweek, month) %>% dplyr::summarize(Trips = n())\n",
        "# `summarise()` has grouped output by 'dayofweek'. You can override using the `.groups` argument.\n",
        "day_month_data"
      ],
      "metadata": {
        "colab": {
          "base_uri": "https://localhost:8080/"
        },
        "id": "TgvDPtbAfj9N",
        "outputId": "5d7e3452-19dd-4857-9cd4-9e708981a237"
      },
      "execution_count": 33,
      "outputs": [
        {
          "output_type": "stream",
          "name": "stdout",
          "text": [
            "`summarise()` has grouped output by 'dayofweek'. You can override using the\n",
            "`.groups` argument.\n",
            "# A tibble: 43 × 3\n",
            "# Groups:   dayofweek [8]\n",
            "   dayofweek month Trips\n",
            "   <ord>     <ord> <int>\n",
            " 1 Sun       Apr   10674\n",
            " 2 Sun       May   14748\n",
            " 3 Sun       Jun   15908\n",
            " 4 Sun       Jul   13240\n",
            " 5 Sun       Aug   15762\n",
            " 6 Sun       Sep   10645\n",
            " 7 Mon       Apr   13168\n",
            " 8 Mon       May   17903\n",
            " 9 Mon       Jun   20270\n",
            "10 Mon       Jul   18936\n",
            "# ℹ 33 more rows\n",
            "# ℹ Use `print(n = ...)` to see more rows\n"
          ]
        }
      ]
    },
    {
      "cell_type": "code",
      "source": [
        "%%R\n",
        "# Number of Trips place during months in a year\n",
        "month_data <- data %>% group_by(month) %>% dplyr::summarize(Total = n())"
      ],
      "metadata": {
        "id": "4P3nnEy7fm2A"
      },
      "execution_count": 34,
      "outputs": []
    },
    {
      "cell_type": "code",
      "source": [
        "%%R\n",
        "month_data"
      ],
      "metadata": {
        "colab": {
          "base_uri": "https://localhost:8080/"
        },
        "id": "VXOtc3KRfsk3",
        "outputId": "1c093209-be75-48dd-a566-1bed4f7090a0"
      },
      "execution_count": 35,
      "outputs": [
        {
          "output_type": "stream",
          "name": "stdout",
          "text": [
            "# A tibble: 7 × 2\n",
            "  month  Total\n",
            "  <ord>  <int>\n",
            "1 Apr   136294\n",
            "2 May   136991\n",
            "3 Jun   136985\n",
            "4 Jul   136539\n",
            "5 Aug   136899\n",
            "6 Sep   136909\n",
            "7 <NA>     406\n"
          ]
        }
      ]
    },
    {
      "cell_type": "code",
      "source": [
        "%%R\n",
        "## Heatmap visualization of day, hour and month\n",
        "# Heatmap by Hour and Day\n",
        "day_hour_data <- data %>% group_by(day, hour) %>% dplyr::summarize(Total = n())"
      ],
      "metadata": {
        "colab": {
          "base_uri": "https://localhost:8080/"
        },
        "id": "BVjLkOpnfwxY",
        "outputId": "c0495d19-d37b-4b7b-a5f5-7fd4d0a5ed55"
      },
      "execution_count": 36,
      "outputs": [
        {
          "output_type": "stream",
          "name": "stdout",
          "text": [
            "`summarise()` has grouped output by 'day'. You can override using the `.groups`\n",
            "argument.\n"
          ]
        }
      ]
    },
    {
      "cell_type": "code",
      "source": [
        "%%R\n",
        "datatable(day_hour_data)"
      ],
      "metadata": {
        "id": "W9SjfHh7f0z1"
      },
      "execution_count": 38,
      "outputs": []
    },
    {
      "cell_type": "code",
      "source": [
        "%%R\n",
        "# Plot Heatmap by Day and Month\n",
        "# Collect data by month and day\n",
        "month_day_data <- data %>% group_by(month, day) %>% dplyr::summarize(Trips = n())"
      ],
      "metadata": {
        "colab": {
          "base_uri": "https://localhost:8080/"
        },
        "id": "viQm4C1Zf85t",
        "outputId": "425d7840-add9-4883-e457-8f367c0d480b"
      },
      "execution_count": 39,
      "outputs": [
        {
          "output_type": "stream",
          "name": "stdout",
          "text": [
            "`summarise()` has grouped output by 'month'. You can override using the\n",
            "`.groups` argument.\n"
          ]
        }
      ]
    },
    {
      "cell_type": "code",
      "source": [
        "%%R\n",
        "month_day_data"
      ],
      "metadata": {
        "colab": {
          "base_uri": "https://localhost:8080/"
        },
        "id": "Uk-MIiGNgNZf",
        "outputId": "f555e270-bccc-455d-fd4f-6edc94c188fe"
      },
      "execution_count": 40,
      "outputs": [
        {
          "output_type": "stream",
          "name": "stdout",
          "text": [
            "# A tibble: 184 × 3\n",
            "# Groups:   month [7]\n",
            "   month day   Trips\n",
            "   <ord> <fct> <int>\n",
            " 1 Apr   1      4747\n",
            " 2 Apr   2      5860\n",
            " 3 Apr   3      6979\n",
            " 4 Apr   4      8975\n",
            " 5 Apr   5      6810\n",
            " 6 Apr   6      4636\n",
            " 7 Apr   7      6711\n",
            " 8 Apr   8      5804\n",
            " 9 Apr   9      5978\n",
            "10 Apr   10     7334\n",
            "# ℹ 174 more rows\n",
            "# ℹ Use `print(n = ...)` to see more rows\n"
          ]
        }
      ]
    },
    {
      "cell_type": "code",
      "source": [],
      "metadata": {
        "id": "XJDIzNCygQLE"
      },
      "execution_count": null,
      "outputs": []
    }
  ]
}